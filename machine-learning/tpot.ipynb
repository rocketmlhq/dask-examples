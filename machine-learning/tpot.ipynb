{
 "cells": [
  {
   "cell_type": "markdown",
   "metadata": {},
   "source": [
    "Automate Machine Learning with TPOT\n",
    "===================================\n",
    "\n",
    "This example shows how [TPOT](https://epistasislab.github.io/tpot/) can be used with Dask.\n",
    "\n",
    "TPOT is an [automated machine learning](https://en.wikipedia.org/wiki/Automated_machine_learning) library.\n",
    "It evaluates many scikit-learn pipelines and hyperparameter combinations to find a model that works well for your data. Evaluating all these computations is computationally expensive, but ammenable to parallelism. TPOT can use Dask to distribute these computations on a cluster of machines.\n",
    "\n",
    "This notebook can be run interactively on the [dask examples binder](https://github.com/dask/dask-examples).\n",
    "The following video shows a larger version of this notebook on a cluster."
   ]
  },
  {
   "cell_type": "code",
   "execution_count": 1,
   "metadata": {},
   "outputs": [
    {
     "data": {
      "text/html": [
       "<div style=\"position:relative;height:0;padding-bottom:56.25%\"><iframe src=\"https://www.youtube.com/embed/uyx9nBuOYQQ?ecver=2\" width=\"640\" height=\"360\" frameborder=\"0\" allow=\"autoplay; encrypted-media\" style=\"position:absolute;width:100%;height:100%;left:0\" allowfullscreen></iframe></div>"
      ],
      "text/plain": [
       "<IPython.core.display.HTML object>"
      ]
     },
     "execution_count": 1,
     "metadata": {},
     "output_type": "execute_result"
    }
   ],
   "source": [
    "from IPython.display import HTML\n",
    "\n",
    "HTML('<div style=\"position:relative;height:0;padding-bottom:56.25%\"><iframe src=\"https://www.youtube.com/embed/uyx9nBuOYQQ?ecver=2\" width=\"640\" height=\"360\" frameborder=\"0\" allow=\"autoplay; encrypted-media\" style=\"position:absolute;width:100%;height:100%;left:0\" allowfullscreen></iframe></div>')"
   ]
  },
  {
   "cell_type": "code",
   "execution_count": 8,
   "metadata": {},
   "outputs": [
    {
     "name": "stdout",
     "output_type": "stream",
     "text": [
      "Requirement already satisfied: tpot in /home/ubuntu/.local/lib/python3.7/site-packages (0.10.2)\n",
      "Collecting dask_ml\n",
      "\u001b[?25l  Downloading https://files.pythonhosted.org/packages/17/da/10080b7826d478567c151fbd66a3a6aaa41a541968d9a46680e94cfea5f5/dask_ml-1.0.0-py3-none-any.whl (118kB)\n",
      "\u001b[K     |████████████████████████████████| 122kB 4.0MB/s eta 0:00:01\n",
      "\u001b[?25hRequirement already satisfied: deap>=1.0 in /home/ubuntu/.local/lib/python3.7/site-packages (from tpot) (1.3.0)\n",
      "Requirement already satisfied: joblib>=0.10.3 in /opt/conda/lib/python3.7/site-packages (from tpot) (0.13.2)\n",
      "Requirement already satisfied: scikit-learn>=0.18.1 in /opt/conda/lib/python3.7/site-packages (from tpot) (0.21.3)\n",
      "Requirement already satisfied: stopit>=1.1.1 in /home/ubuntu/.local/lib/python3.7/site-packages (from tpot) (1.1.2)\n",
      "Requirement already satisfied: tqdm>=4.26.0 in /opt/conda/lib/python3.7/site-packages (from tpot) (4.35.0)\n",
      "Requirement already satisfied: update-checker>=0.16 in /home/ubuntu/.local/lib/python3.7/site-packages (from tpot) (0.16)\n",
      "Requirement already satisfied: scipy>=0.19.0 in /opt/conda/lib/python3.7/site-packages (from tpot) (1.3.1)\n",
      "Requirement already satisfied: numpy>=1.12.1 in /home/ubuntu/.local/lib/python3.7/site-packages (from tpot) (1.17.2)\n",
      "Requirement already satisfied: pandas>=0.20.2 in /home/ubuntu/.local/lib/python3.7/site-packages (from tpot) (0.25.1)\n",
      "Requirement already satisfied: packaging in /opt/conda/lib/python3.7/site-packages (from dask_ml) (19.0)\n",
      "Requirement already satisfied: numba in /opt/conda/lib/python3.7/site-packages (from dask_ml) (0.45.1)\n",
      "Requirement already satisfied: multipledispatch>=0.4.9 in /home/ubuntu/.local/lib/python3.7/site-packages (from dask_ml) (0.6.0)\n",
      "Requirement already satisfied: distributed>=1.25.0 in /home/ubuntu/.local/lib/python3.7/site-packages (from dask_ml) (2.6.0)\n",
      "Requirement already satisfied: dask[array]>=1.0.0 in /home/ubuntu/.local/lib/python3.7/site-packages (from dask_ml) (2.6.0)\n",
      "Requirement already satisfied: dask-glm in /home/ubuntu/.local/lib/python3.7/site-packages (from dask_ml) (0.2.0)\n",
      "Requirement already satisfied: requests>=2.3.0 in /opt/conda/lib/python3.7/site-packages (from update-checker>=0.16->tpot) (2.22.0)\n",
      "Requirement already satisfied: python-dateutil>=2.6.1 in /opt/conda/lib/python3.7/site-packages (from pandas>=0.20.2->tpot) (2.8.0)\n",
      "Requirement already satisfied: pytz>=2017.2 in /opt/conda/lib/python3.7/site-packages (from pandas>=0.20.2->tpot) (2019.2)\n",
      "Requirement already satisfied: six in /opt/conda/lib/python3.7/site-packages (from packaging->dask_ml) (1.12.0)\n",
      "Requirement already satisfied: pyparsing>=2.0.2 in /opt/conda/lib/python3.7/site-packages (from packaging->dask_ml) (2.4.2)\n",
      "Requirement already satisfied: llvmlite>=0.29.0dev0 in /opt/conda/lib/python3.7/site-packages (from numba->dask_ml) (0.29.0)\n",
      "Requirement already satisfied: toolz>=0.7.4 in /opt/conda/lib/python3.7/site-packages (from distributed>=1.25.0->dask_ml) (0.10.0)\n",
      "Requirement already satisfied: zict>=0.1.3 in /opt/conda/lib/python3.7/site-packages (from distributed>=1.25.0->dask_ml) (1.0.0)\n",
      "Requirement already satisfied: pyyaml in /opt/conda/lib/python3.7/site-packages (from distributed>=1.25.0->dask_ml) (5.1.2)\n",
      "Requirement already satisfied: click>=6.6 in /opt/conda/lib/python3.7/site-packages (from distributed>=1.25.0->dask_ml) (7.0)\n",
      "Requirement already satisfied: sortedcontainers!=2.0.0,!=2.0.1 in /opt/conda/lib/python3.7/site-packages (from distributed>=1.25.0->dask_ml) (2.1.0)\n",
      "Requirement already satisfied: tornado>=5 in /opt/conda/lib/python3.7/site-packages (from distributed>=1.25.0->dask_ml) (6.0.3)\n",
      "Requirement already satisfied: msgpack in /opt/conda/lib/python3.7/site-packages (from distributed>=1.25.0->dask_ml) (0.6.1)\n",
      "Requirement already satisfied: cloudpickle>=0.2.2 in /opt/conda/lib/python3.7/site-packages (from distributed>=1.25.0->dask_ml) (1.2.2)\n",
      "Requirement already satisfied: psutil>=5.0 in /opt/conda/lib/python3.7/site-packages (from distributed>=1.25.0->dask_ml) (5.6.3)\n",
      "Requirement already satisfied: tblib in /opt/conda/lib/python3.7/site-packages (from distributed>=1.25.0->dask_ml) (1.4.0)\n",
      "Requirement already satisfied: chardet<3.1.0,>=3.0.2 in /opt/conda/lib/python3.7/site-packages (from requests>=2.3.0->update-checker>=0.16->tpot) (3.0.4)\n",
      "Requirement already satisfied: certifi>=2017.4.17 in /opt/conda/lib/python3.7/site-packages (from requests>=2.3.0->update-checker>=0.16->tpot) (2019.9.11)\n",
      "Requirement already satisfied: idna<2.9,>=2.5 in /opt/conda/lib/python3.7/site-packages (from requests>=2.3.0->update-checker>=0.16->tpot) (2.8)\n",
      "Requirement already satisfied: urllib3!=1.25.0,!=1.25.1,<1.26,>=1.21.1 in /opt/conda/lib/python3.7/site-packages (from requests>=2.3.0->update-checker>=0.16->tpot) (1.25.3)\n",
      "Requirement already satisfied: heapdict in /opt/conda/lib/python3.7/site-packages (from zict>=0.1.3->distributed>=1.25.0->dask_ml) (1.0.0)\n",
      "Installing collected packages: dask-ml\n",
      "Successfully installed dask-ml-1.0.0\n"
     ]
    }
   ],
   "source": [
    "!pip install --user tpot dask_ml"
   ]
  },
  {
   "cell_type": "code",
   "execution_count": 3,
   "metadata": {},
   "outputs": [],
   "source": [
    "import tpot\n",
    "from tpot import TPOTClassifier\n",
    "from sklearn.datasets import load_digits\n",
    "from sklearn.model_selection import train_test_split"
   ]
  },
  {
   "cell_type": "markdown",
   "metadata": {},
   "source": [
    "## Setup Dask\n",
    "\n",
    "We first start a Dask client in order to get access to the Dask dashboard, which will provide progress and performance metrics. \n",
    "\n",
    "You can view the dashboard by clicking on the dashboard link after you run the cell."
   ]
  },
  {
   "cell_type": "code",
   "execution_count": 4,
   "metadata": {},
   "outputs": [
    {
     "data": {
      "text/html": [
       "<table style=\"border: 2px solid white;\">\n",
       "<tr>\n",
       "<td style=\"vertical-align: top; border: 0px solid white\">\n",
       "<h3 style=\"text-align: left;\">Client</h3>\n",
       "<ul style=\"text-align: left; list-style: none; margin: 0; padding: 0;\">\n",
       "  <li><b>Scheduler: </b>tcp://127.0.0.1:33288</li>\n",
       "  <li><b>Dashboard: </b><a href='http://127.0.0.1:8787/status' target='_blank'>http://127.0.0.1:8787/status</a>\n",
       "</ul>\n",
       "</td>\n",
       "<td style=\"vertical-align: top; border: 0px solid white\">\n",
       "<h3 style=\"text-align: left;\">Cluster</h3>\n",
       "<ul style=\"text-align: left; list-style:none; margin: 0; padding: 0;\">\n",
       "  <li><b>Workers: </b>4</li>\n",
       "  <li><b>Cores: </b>4</li>\n",
       "  <li><b>Memory: </b>16.83 GB</li>\n",
       "</ul>\n",
       "</td>\n",
       "</tr>\n",
       "</table>"
      ],
      "text/plain": [
       "<Client: 'tcp://127.0.0.1:33288' processes=4 threads=4, memory=16.83 GB>"
      ]
     },
     "execution_count": 4,
     "metadata": {},
     "output_type": "execute_result"
    }
   ],
   "source": [
    "from dask.distributed import Client\n",
    "client = Client(n_workers=4, threads_per_worker=1)\n",
    "client"
   ]
  },
  {
   "cell_type": "markdown",
   "metadata": {},
   "source": [
    "## Create Data\n",
    "\n",
    "We'll use the digits dataset.\n",
    "To ensure the example runs quickly, we'll make the training dataset relatively small."
   ]
  },
  {
   "cell_type": "code",
   "execution_count": 5,
   "metadata": {},
   "outputs": [],
   "source": [
    "digits = load_digits()\n",
    "\n",
    "X_train, X_test, y_train, y_test = train_test_split(\n",
    "    digits.data,\n",
    "    digits.target,\n",
    "    train_size=0.05,\n",
    "    test_size=0.95,\n",
    ")"
   ]
  },
  {
   "cell_type": "markdown",
   "metadata": {},
   "source": [
    "These are just small, in-memory NumPy arrays. This example is not applicable to larger-than-memory Dask arrays."
   ]
  },
  {
   "cell_type": "markdown",
   "metadata": {},
   "source": [
    "## Using Dask\n",
    "\n",
    "TPOT follows the scikit-learn API; we specify a `TPOTClassifier` with a few hyperparameters, and then fit it on some data.\n",
    "By default, TPOT trains on your single machine.\n",
    "To ensure your cluster is used, specify the `use_dask` keyword."
   ]
  },
  {
   "cell_type": "code",
   "execution_count": 6,
   "metadata": {},
   "outputs": [],
   "source": [
    "# scale up: Increase the TPOT parameters like population_size, generations\n",
    "tp = TPOTClassifier(\n",
    "    generations=2,\n",
    "    population_size=10,\n",
    "    cv=2,\n",
    "    n_jobs=-1,\n",
    "    random_state=0,\n",
    "    verbosity=0,\n",
    "    config_dict=tpot.config.classifier_config_dict_light,\n",
    "    use_dask=True,\n",
    ")"
   ]
  },
  {
   "cell_type": "code",
   "execution_count": 9,
   "metadata": {},
   "outputs": [
    {
     "data": {
      "text/plain": [
       "TPOTClassifier(config_dict={'sklearn.cluster.FeatureAgglomeration': {'affinity': ['euclidean',\n",
       "                                                                                  'l1',\n",
       "                                                                                  'l2',\n",
       "                                                                                  'manhattan',\n",
       "                                                                                  'cosine'],\n",
       "                                                                     'linkage': ['ward',\n",
       "                                                                                 'complete',\n",
       "                                                                                 'average']},\n",
       "                            'sklearn.decomposition.PCA': {'iterated_power': range(1, 11),\n",
       "                                                          'svd_solver': ['randomized']},\n",
       "                            'sklearn.feature_selection.SelectFwe': {'alpha': array([0.   , 0.001, 0.002, 0.003, 0.004, 0.005, 0.006, 0.007...\n",
       "                            'tpot.builtins.ZeroCount': {}},\n",
       "               crossover_rate=0.1, cv=2, disable_update_check=False,\n",
       "               early_stop=None, generations=2, max_eval_time_mins=5,\n",
       "               max_time_mins=None, memory=None, mutation_rate=0.9, n_jobs=-1,\n",
       "               offspring_size=None, periodic_checkpoint_folder=None,\n",
       "               population_size=10, random_state=0, scoring=None, subsample=1.0,\n",
       "               template=None, use_dask=True, verbosity=0, warm_start=False)"
      ]
     },
     "execution_count": 9,
     "metadata": {},
     "output_type": "execute_result"
    }
   ],
   "source": [
    "tp.fit(X_train, y_train)"
   ]
  },
  {
   "cell_type": "markdown",
   "metadata": {},
   "source": [
    "## Learn More\n",
    "\n",
    "See the [Dask-ML](http://ml.dask.org/) and [TPOT](https://epistasislab.github.io/tpot/) documenation for more information on using Dask and TPOT."
   ]
  }
 ],
 "metadata": {
  "kernelspec": {
   "display_name": "Python 3",
   "language": "python",
   "name": "python3"
  },
  "language_info": {
   "codemirror_mode": {
    "name": "ipython",
    "version": 3
   },
   "file_extension": ".py",
   "mimetype": "text/x-python",
   "name": "python",
   "nbconvert_exporter": "python",
   "pygments_lexer": "ipython3",
   "version": "3.7.3"
  }
 },
 "nbformat": 4,
 "nbformat_minor": 4
}
