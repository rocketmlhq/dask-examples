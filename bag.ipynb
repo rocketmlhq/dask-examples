{
 "cells": [
  {
   "cell_type": "markdown",
   "metadata": {},
   "source": [
    "# Dask Bags\n",
    "\n",
    "\n",
    "Dask Bag implements operations like `map`, `filter`, `groupby` and aggregations on collections of Python objects. It does this in parallel and in small memory using Python iterators. It is similar to a parallel version of itertools or a Pythonic version of the PySpark RDD.\n",
    "\n",
    "Dask Bags are often used to do simple preprocessing on log files, JSON records, or other user defined Python objects.\n",
    "\n",
    "Full API documentation is available here: http://docs.dask.org/en/latest/bag-api.html"
   ]
  },
  {
   "cell_type": "markdown",
   "metadata": {},
   "source": [
    "## Start Dask Client for Dashboard\n",
    "\n",
    "Starting the Dask Client is optional.  It will provide a dashboard which \n",
    "is useful to gain insight on the computation.  \n",
    "\n",
    "The link to the dashboard will become visible when you create the client below.  We recommend having it open on one side of your screen while using your notebook on the other side.  This can take some effort to arrange your windows, but seeing them both at the same is very useful when learning."
   ]
  },
  {
   "cell_type": "code",
   "execution_count": 1,
   "metadata": {},
   "outputs": [
    {
     "data": {
      "text/html": [
       "<table style=\"border: 2px solid white;\">\n",
       "<tr>\n",
       "<td style=\"vertical-align: top; border: 0px solid white\">\n",
       "<h3 style=\"text-align: left;\">Client</h3>\n",
       "<ul style=\"text-align: left; list-style: none; margin: 0; padding: 0;\">\n",
       "  <li><b>Scheduler: </b>tcp://127.0.0.1:37514</li>\n",
       "  <li><b>Dashboard: </b><a href='http://127.0.0.1:8787/status' target='_blank'>http://127.0.0.1:8787/status</a>\n",
       "</ul>\n",
       "</td>\n",
       "<td style=\"vertical-align: top; border: 0px solid white\">\n",
       "<h3 style=\"text-align: left;\">Cluster</h3>\n",
       "<ul style=\"text-align: left; list-style:none; margin: 0; padding: 0;\">\n",
       "  <li><b>Workers: </b>4</li>\n",
       "  <li><b>Cores: </b>4</li>\n",
       "  <li><b>Memory: </b>4.14 GB</li>\n",
       "</ul>\n",
       "</td>\n",
       "</tr>\n",
       "</table>"
      ],
      "text/plain": [
       "<Client: 'tcp://127.0.0.1:37514' processes=4 threads=4, memory=4.14 GB>"
      ]
     },
     "execution_count": 1,
     "metadata": {},
     "output_type": "execute_result"
    }
   ],
   "source": [
    "from dask.distributed import Client, progress\n",
    "client = Client(n_workers=4, threads_per_worker=1)\n",
    "client"
   ]
  },
  {
   "cell_type": "markdown",
   "metadata": {},
   "source": [
    "## Create Random Data\n",
    "\n",
    "We create a random set of record data and store it to disk as many JSON files.  This will serve as our data for this notebook."
   ]
  },
  {
   "cell_type": "code",
   "execution_count": 3,
   "metadata": {},
   "outputs": [
    {
     "name": "stdout",
     "output_type": "stream",
     "text": [
      "Collecting mimesis\n",
      "\u001b[?25l  Downloading https://files.pythonhosted.org/packages/c5/9e/98b8893f1610c9c151fae47030d36cd092f574c12ca324353f44512e7ad9/mimesis-3.3.0-py3-none-any.whl (2.3MB)\n",
      "\u001b[K     |████████████████████████████████| 2.3MB 4.6MB/s eta 0:00:01\n",
      "\u001b[?25hInstalling collected packages: mimesis\n",
      "Successfully installed mimesis-3.3.0\n"
     ]
    }
   ],
   "source": [
    "!pip install --user mimesis"
   ]
  },
  {
   "cell_type": "code",
   "execution_count": 4,
   "metadata": {},
   "outputs": [
    {
     "data": {
      "text/plain": [
       "['/home/ubuntu/dask-examples/data/0.json',\n",
       " '/home/ubuntu/dask-examples/data/1.json',\n",
       " '/home/ubuntu/dask-examples/data/2.json',\n",
       " '/home/ubuntu/dask-examples/data/3.json',\n",
       " '/home/ubuntu/dask-examples/data/4.json',\n",
       " '/home/ubuntu/dask-examples/data/5.json',\n",
       " '/home/ubuntu/dask-examples/data/6.json',\n",
       " '/home/ubuntu/dask-examples/data/7.json',\n",
       " '/home/ubuntu/dask-examples/data/8.json',\n",
       " '/home/ubuntu/dask-examples/data/9.json']"
      ]
     },
     "execution_count": 4,
     "metadata": {},
     "output_type": "execute_result"
    }
   ],
   "source": [
    "import dask\n",
    "import json\n",
    "import os\n",
    "\n",
    "os.makedirs('data', exist_ok=True)              # Create data/ directory\n",
    "\n",
    "b = dask.datasets.make_people()                 # Make records of people\n",
    "b.map(json.dumps).to_textfiles('data/*.json')   # Encode as JSON, write to disk"
   ]
  },
  {
   "cell_type": "markdown",
   "metadata": {},
   "source": [
    "## Read JSON data\n",
    "\n",
    "Now that we have some JSON data in a file lets take a look at it with Dask Bag and Python JSON module."
   ]
  },
  {
   "cell_type": "code",
   "execution_count": 5,
   "metadata": {},
   "outputs": [
    {
     "name": "stdout",
     "output_type": "stream",
     "text": [
      "{\"age\": 23, \"name\": [\"Berry\", \"Jackson\"], \"occupation\": \"Sports Coach\", \"telephone\": \"(195) 714-0885\", \"address\": {\"address\": \"229 Ellert Brae\", \"city\": \"Mayfield Heights\"}, \"credit-card\": {\"number\": \"2306 7790 5218 6927\", \"expiration-date\": \"07/24\"}}\n",
      "{\"age\": 66, \"name\": [\"Keturah\", \"English\"], \"occupation\": \"Physicist\", \"telephone\": \"807.452.0962\", \"address\": {\"address\": \"930 Belles Plaza\", \"city\": \"Cleveland Heights\"}, \"credit-card\": {\"number\": \"5534 8118 4456 3001\", \"expiration-date\": \"03/25\"}}\n"
     ]
    }
   ],
   "source": [
    "!head -n 2 data/0.json"
   ]
  },
  {
   "cell_type": "code",
   "execution_count": 6,
   "metadata": {},
   "outputs": [
    {
     "data": {
      "text/plain": [
       "dask.bag<loads-8..., npartitions=10>"
      ]
     },
     "execution_count": 6,
     "metadata": {},
     "output_type": "execute_result"
    }
   ],
   "source": [
    "import dask.bag as db\n",
    "import json\n",
    "\n",
    "b = db.read_text('data/*.json').map(json.loads)\n",
    "b"
   ]
  },
  {
   "cell_type": "code",
   "execution_count": 7,
   "metadata": {},
   "outputs": [
    {
     "data": {
      "text/plain": [
       "({'age': 23,\n",
       "  'name': ['Berry', 'Jackson'],\n",
       "  'occupation': 'Sports Coach',\n",
       "  'telephone': '(195) 714-0885',\n",
       "  'address': {'address': '229 Ellert Brae', 'city': 'Mayfield Heights'},\n",
       "  'credit-card': {'number': '2306 7790 5218 6927',\n",
       "   'expiration-date': '07/24'}},\n",
       " {'age': 66,\n",
       "  'name': ['Keturah', 'English'],\n",
       "  'occupation': 'Physicist',\n",
       "  'telephone': '807.452.0962',\n",
       "  'address': {'address': '930 Belles Plaza', 'city': 'Cleveland Heights'},\n",
       "  'credit-card': {'number': '5534 8118 4456 3001',\n",
       "   'expiration-date': '03/25'}})"
      ]
     },
     "execution_count": 7,
     "metadata": {},
     "output_type": "execute_result"
    }
   ],
   "source": [
    "b.take(2)"
   ]
  },
  {
   "cell_type": "markdown",
   "metadata": {},
   "source": [
    "## Map, Filter, Aggregate\n",
    "\n",
    "We can process this data by filtering out only certain records of interest, mapping functions over it to process our data, and aggregating those results to a total value."
   ]
  },
  {
   "cell_type": "code",
   "execution_count": 8,
   "metadata": {},
   "outputs": [
    {
     "data": {
      "text/plain": [
       "({'age': 66,\n",
       "  'name': ['Keturah', 'English'],\n",
       "  'occupation': 'Physicist',\n",
       "  'telephone': '807.452.0962',\n",
       "  'address': {'address': '930 Belles Plaza', 'city': 'Cleveland Heights'},\n",
       "  'credit-card': {'number': '5534 8118 4456 3001',\n",
       "   'expiration-date': '03/25'}},\n",
       " {'age': 36,\n",
       "  'name': ['Mark', 'Baldwin'],\n",
       "  'occupation': 'Pharmacist',\n",
       "  'telephone': '(416) 253-0182',\n",
       "  'address': {'address': '21 Chula Trace', 'city': 'West Valley City'},\n",
       "  'credit-card': {'number': '4725 0803 2541 8521',\n",
       "   'expiration-date': '02/25'}})"
      ]
     },
     "execution_count": 8,
     "metadata": {},
     "output_type": "execute_result"
    }
   ],
   "source": [
    "b.filter(lambda record: record['age'] > 30).take(2)  # Select only people over 30"
   ]
  },
  {
   "cell_type": "code",
   "execution_count": 9,
   "metadata": {},
   "outputs": [
    {
     "data": {
      "text/plain": [
       "('Sports Coach', 'Physicist')"
      ]
     },
     "execution_count": 9,
     "metadata": {},
     "output_type": "execute_result"
    }
   ],
   "source": [
    "b.map(lambda record: record['occupation']).take(2)  # Select the occupation field"
   ]
  },
  {
   "cell_type": "code",
   "execution_count": 10,
   "metadata": {},
   "outputs": [
    {
     "data": {
      "text/plain": [
       "10000"
      ]
     },
     "execution_count": 10,
     "metadata": {},
     "output_type": "execute_result"
    }
   ],
   "source": [
    "b.count().compute()  # Count total number of records"
   ]
  },
  {
   "cell_type": "markdown",
   "metadata": {},
   "source": [
    "## Chain computations\n",
    "\n",
    "It is common to do many of these steps in one pipeline, only calling `compute` or `take` at the end."
   ]
  },
  {
   "cell_type": "code",
   "execution_count": 11,
   "metadata": {},
   "outputs": [
    {
     "data": {
      "text/plain": [
       "dask.bag<topk-ag..., npartitions=1>"
      ]
     },
     "execution_count": 11,
     "metadata": {},
     "output_type": "execute_result"
    }
   ],
   "source": [
    "result = (b.filter(lambda record: record['age'] > 30)\n",
    "           .map(lambda record: record['occupation'])\n",
    "           .frequencies(sort=True)\n",
    "           .topk(10, key=1))\n",
    "result"
   ]
  },
  {
   "cell_type": "markdown",
   "metadata": {},
   "source": [
    "As with all lazy Dask collections, we need to call `compute` to actually evaluate our result.  The `take` method used in earlier examples is also like `compute` and will also trigger computation."
   ]
  },
  {
   "cell_type": "code",
   "execution_count": 12,
   "metadata": {},
   "outputs": [
    {
     "data": {
      "text/plain": [
       "[('Haulage Contractor', 17),\n",
       " ('Sports Administrator', 16),\n",
       " ('Plastics Engineer', 15),\n",
       " ('Lorry Driver', 15),\n",
       " ('Garden Designer', 14),\n",
       " ('Landworker', 14),\n",
       " ('Research Analyst', 13),\n",
       " ('Television Director', 13),\n",
       " ('Ticket Inspector', 13),\n",
       " ('Cabinet Maker', 13)]"
      ]
     },
     "execution_count": 12,
     "metadata": {},
     "output_type": "execute_result"
    }
   ],
   "source": [
    "result.compute()"
   ]
  },
  {
   "cell_type": "markdown",
   "metadata": {},
   "source": [
    "## Transform and Store\n",
    "\n",
    "Sometimes we want to compute aggregations as above, but sometimes we want to store results to disk for future analyses.  For that we can use methods like `to_textfiles` and `json.dumps`, or we can convert to Dask Dataframes and use their storage systems, which we'll see more of in the next section."
   ]
  },
  {
   "cell_type": "code",
   "execution_count": 13,
   "metadata": {},
   "outputs": [
    {
     "data": {
      "text/plain": [
       "['/home/ubuntu/dask-examples/data/processed.0.json',\n",
       " '/home/ubuntu/dask-examples/data/processed.1.json',\n",
       " '/home/ubuntu/dask-examples/data/processed.2.json',\n",
       " '/home/ubuntu/dask-examples/data/processed.3.json',\n",
       " '/home/ubuntu/dask-examples/data/processed.4.json',\n",
       " '/home/ubuntu/dask-examples/data/processed.5.json',\n",
       " '/home/ubuntu/dask-examples/data/processed.6.json',\n",
       " '/home/ubuntu/dask-examples/data/processed.7.json',\n",
       " '/home/ubuntu/dask-examples/data/processed.8.json',\n",
       " '/home/ubuntu/dask-examples/data/processed.9.json']"
      ]
     },
     "execution_count": 13,
     "metadata": {},
     "output_type": "execute_result"
    }
   ],
   "source": [
    "(b.filter(lambda record: record['age'] > 30)  # Select records of interest\n",
    "  .map(json.dumps)                            # Convert Python objects to text\n",
    "  .to_textfiles('data/processed.*.json'))     # Write to local disk"
   ]
  },
  {
   "cell_type": "markdown",
   "metadata": {},
   "source": [
    "## Convert to Dask Dataframes\n",
    "\n",
    "Dask Bags are good for reading in initial data, doing a bit of pre-processing, and then handing off to some other more efficient form like Dask Dataframes.  Dask Dataframes use Pandas internally, and so can be much faster on numeric data and also have more complex algorithms.  \n",
    "\n",
    "However, Dask Dataframes also expect data that is organized as flat columns.  It does not support nested JSON data very well (Bag is better for this).\n",
    "\n",
    "Here we make a function to flatten down our nested data structure, map that across our records, and then convert that to a Dask Dataframe."
   ]
  },
  {
   "cell_type": "code",
   "execution_count": 14,
   "metadata": {},
   "outputs": [
    {
     "data": {
      "text/plain": [
       "({'age': 23,\n",
       "  'name': ['Berry', 'Jackson'],\n",
       "  'occupation': 'Sports Coach',\n",
       "  'telephone': '(195) 714-0885',\n",
       "  'address': {'address': '229 Ellert Brae', 'city': 'Mayfield Heights'},\n",
       "  'credit-card': {'number': '2306 7790 5218 6927',\n",
       "   'expiration-date': '07/24'}},)"
      ]
     },
     "execution_count": 14,
     "metadata": {},
     "output_type": "execute_result"
    }
   ],
   "source": [
    "b.take(1)"
   ]
  },
  {
   "cell_type": "code",
   "execution_count": 15,
   "metadata": {},
   "outputs": [
    {
     "data": {
      "text/plain": [
       "({'age': 23,\n",
       "  'occupation': 'Sports Coach',\n",
       "  'telephone': '(195) 714-0885',\n",
       "  'credit-card-number': '2306 7790 5218 6927',\n",
       "  'credit-card-expiration': '07/24',\n",
       "  'name': 'Berry Jackson',\n",
       "  'street-address': '229 Ellert Brae',\n",
       "  'city': 'Mayfield Heights'},)"
      ]
     },
     "execution_count": 15,
     "metadata": {},
     "output_type": "execute_result"
    }
   ],
   "source": [
    "def flatten(record):\n",
    "    return {\n",
    "        'age': record['age'],\n",
    "        'occupation': record['occupation'],\n",
    "        'telephone': record['telephone'],\n",
    "        'credit-card-number': record['credit-card']['number'],\n",
    "        'credit-card-expiration': record['credit-card']['expiration-date'],\n",
    "        'name': ' '.join(record['name']),\n",
    "        'street-address': record['address']['address'],\n",
    "        'city': record['address']['city']   \n",
    "    }\n",
    "\n",
    "b.map(flatten).take(1)"
   ]
  },
  {
   "cell_type": "code",
   "execution_count": 16,
   "metadata": {},
   "outputs": [
    {
     "data": {
      "text/html": [
       "<div>\n",
       "<style scoped>\n",
       "    .dataframe tbody tr th:only-of-type {\n",
       "        vertical-align: middle;\n",
       "    }\n",
       "\n",
       "    .dataframe tbody tr th {\n",
       "        vertical-align: top;\n",
       "    }\n",
       "\n",
       "    .dataframe thead th {\n",
       "        text-align: right;\n",
       "    }\n",
       "</style>\n",
       "<table border=\"1\" class=\"dataframe\">\n",
       "  <thead>\n",
       "    <tr style=\"text-align: right;\">\n",
       "      <th></th>\n",
       "      <th>age</th>\n",
       "      <th>occupation</th>\n",
       "      <th>telephone</th>\n",
       "      <th>credit-card-number</th>\n",
       "      <th>credit-card-expiration</th>\n",
       "      <th>name</th>\n",
       "      <th>street-address</th>\n",
       "      <th>city</th>\n",
       "    </tr>\n",
       "  </thead>\n",
       "  <tbody>\n",
       "    <tr>\n",
       "      <td>0</td>\n",
       "      <td>23</td>\n",
       "      <td>Sports Coach</td>\n",
       "      <td>(195) 714-0885</td>\n",
       "      <td>2306 7790 5218 6927</td>\n",
       "      <td>07/24</td>\n",
       "      <td>Berry Jackson</td>\n",
       "      <td>229 Ellert Brae</td>\n",
       "      <td>Mayfield Heights</td>\n",
       "    </tr>\n",
       "    <tr>\n",
       "      <td>1</td>\n",
       "      <td>66</td>\n",
       "      <td>Physicist</td>\n",
       "      <td>807.452.0962</td>\n",
       "      <td>5534 8118 4456 3001</td>\n",
       "      <td>03/25</td>\n",
       "      <td>Keturah English</td>\n",
       "      <td>930 Belles Plaza</td>\n",
       "      <td>Cleveland Heights</td>\n",
       "    </tr>\n",
       "    <tr>\n",
       "      <td>2</td>\n",
       "      <td>24</td>\n",
       "      <td>Jockey</td>\n",
       "      <td>(201) 497-2231</td>\n",
       "      <td>4102 8230 2422 5132</td>\n",
       "      <td>05/21</td>\n",
       "      <td>Marguerita Bruce</td>\n",
       "      <td>163 Vicente Private</td>\n",
       "      <td>Taylor</td>\n",
       "    </tr>\n",
       "    <tr>\n",
       "      <td>3</td>\n",
       "      <td>18</td>\n",
       "      <td>Art Critic</td>\n",
       "      <td>173-388-1767</td>\n",
       "      <td>2297 1375 3245 1349</td>\n",
       "      <td>01/19</td>\n",
       "      <td>Paz Phillips</td>\n",
       "      <td>1264 Edinburgh Row</td>\n",
       "      <td>Oak Harbor</td>\n",
       "    </tr>\n",
       "    <tr>\n",
       "      <td>4</td>\n",
       "      <td>36</td>\n",
       "      <td>Pharmacist</td>\n",
       "      <td>(416) 253-0182</td>\n",
       "      <td>4725 0803 2541 8521</td>\n",
       "      <td>02/25</td>\n",
       "      <td>Mark Baldwin</td>\n",
       "      <td>21 Chula Trace</td>\n",
       "      <td>West Valley City</td>\n",
       "    </tr>\n",
       "  </tbody>\n",
       "</table>\n",
       "</div>"
      ],
      "text/plain": [
       "   age    occupation       telephone   credit-card-number  \\\n",
       "0   23  Sports Coach  (195) 714-0885  2306 7790 5218 6927   \n",
       "1   66     Physicist    807.452.0962  5534 8118 4456 3001   \n",
       "2   24        Jockey  (201) 497-2231  4102 8230 2422 5132   \n",
       "3   18    Art Critic    173-388-1767  2297 1375 3245 1349   \n",
       "4   36    Pharmacist  (416) 253-0182  4725 0803 2541 8521   \n",
       "\n",
       "  credit-card-expiration              name       street-address  \\\n",
       "0                  07/24     Berry Jackson      229 Ellert Brae   \n",
       "1                  03/25   Keturah English     930 Belles Plaza   \n",
       "2                  05/21  Marguerita Bruce  163 Vicente Private   \n",
       "3                  01/19      Paz Phillips   1264 Edinburgh Row   \n",
       "4                  02/25      Mark Baldwin       21 Chula Trace   \n",
       "\n",
       "                city  \n",
       "0   Mayfield Heights  \n",
       "1  Cleveland Heights  \n",
       "2             Taylor  \n",
       "3         Oak Harbor  \n",
       "4   West Valley City  "
      ]
     },
     "execution_count": 16,
     "metadata": {},
     "output_type": "execute_result"
    }
   ],
   "source": [
    "df = b.map(flatten).to_dataframe()\n",
    "df.head()"
   ]
  },
  {
   "cell_type": "markdown",
   "metadata": {},
   "source": [
    "We can now perform the same computation as before, but now using Pandas and Dask dataframe."
   ]
  },
  {
   "cell_type": "code",
   "execution_count": 17,
   "metadata": {},
   "outputs": [
    {
     "data": {
      "text/plain": [
       "Haulage Contractor      17\n",
       "Sports Administrator    16\n",
       "Plastics Engineer       15\n",
       "Lorry Driver            15\n",
       "Landworker              14\n",
       "Garden Designer         14\n",
       "Ticket Inspector        13\n",
       "Caulker                 13\n",
       "Pawnbroker              13\n",
       "Television Director     13\n",
       "Name: occupation, dtype: int64"
      ]
     },
     "execution_count": 17,
     "metadata": {},
     "output_type": "execute_result"
    }
   ],
   "source": [
    "df[df.age > 30].occupation.value_counts().nlargest(10).compute()"
   ]
  },
  {
   "cell_type": "markdown",
   "metadata": {},
   "source": [
    "## Learn More\n",
    "\n",
    "You may be interested in the following links:\n",
    "\n",
    "-  [Dask Bag Documentation](http://docs.dask.org/en/latest/bag-overview.html)\n",
    "-  [API Documentation](http://docs.dask.org/en/latest/bag-api.html)\n",
    "-  [dask tutorial](https://github.com/dask/dask-tutorial), notebook 02, for a more in-depth introduction."
   ]
  },
  {
   "cell_type": "code",
   "execution_count": 18,
   "metadata": {},
   "outputs": [],
   "source": [
    "client.close()"
   ]
  },
  {
   "cell_type": "code",
   "execution_count": 20,
   "metadata": {},
   "outputs": [],
   "source": [
    "%reset -s -f"
   ]
  },
  {
   "cell_type": "code",
   "execution_count": null,
   "metadata": {},
   "outputs": [],
   "source": []
  }
 ],
 "metadata": {
  "kernelspec": {
   "display_name": "Python 3",
   "language": "python",
   "name": "python3"
  },
  "language_info": {
   "codemirror_mode": {
    "name": "ipython",
    "version": 3
   },
   "file_extension": ".py",
   "mimetype": "text/x-python",
   "name": "python",
   "nbconvert_exporter": "python",
   "pygments_lexer": "ipython3",
   "version": "3.7.3"
  }
 },
 "nbformat": 4,
 "nbformat_minor": 4
}
